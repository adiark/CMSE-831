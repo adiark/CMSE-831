{
  "cells": [
    {
      "cell_type": "code",
      "execution_count": 1,
      "metadata": {
        "id": "mi-Fr8qlphRc"
      },
      "outputs": [],
      "source": [
        "import numpy as np\n",
        "import matplotlib.pyplot as plt\n",
        "from scipy import linalg"
      ]
    },
    {
      "cell_type": "markdown",
      "metadata": {
        "id": "OWeTaoSKscjx"
      },
      "source": [
        "![xkcd](https://imgs.xkcd.com/comics/machine_learning_2x.png)"
      ]
    },
    {
      "cell_type": "markdown",
      "metadata": {
        "id": "UVD6s7FFs7UE"
      },
      "source": [
        "____\n",
        "\n",
        "## Problem 1: Inverting a Matrix By Hand (10pts)\n",
        "\n",
        "I mentioned in class that we will mostly rely on Python libraries for performing linear algebra operations. Why not, isn't that why they were developed?!\n",
        "\n",
        "However, it is also good practice to know how to do these by yourself for the simplest cases. This allows you to explore ideas without a computer and build your intuition for what the libraries are doing. We'll learn here how to invert a $2\\times 2$ matrix by hand.\n",
        "\n",
        "Follow these steps:\n",
        "1. Make a $2\\times 2$ matrix $A = \\begin{bmatrix} a & b \\\\ c & d\\end{bmatrix}$ using a numPy array (you might want to try several choices); if you don't know about these already, NumPy has [some nice functionality for creating arrays](https://numpy.org/doc/stable/user/basics.creation.html), which can be matrices, of various types.\n",
        "2. Find the [determinant](https://en.wikipedia.org/wiki/Determinant) of your matrix, using:\n",
        "$$ \\mathrm{det}(A) = ad - cb.$$\n",
        "Do this by hand, not with a library.\n",
        "3. Form the inverse $A^{-1}$ with\n",
        "$$A^{-1} = \\frac{1}{\\mathrm{det}(A)}\\begin{bmatrix} d & -b \\\\ -c & a\\end{bmatrix}.$$\n",
        "Show all of your steps using $\\LaTeX$ in a markdown cell. \n",
        "4. Now that you have $A^{-1}$, use the rules of matrix multiplication to find the product $A^{-1}A$. Show your steps.\n",
        "5. Vary the matrix $A$ and comment on anything interesting you see. For example, what would $A$ look like if its determinant were $0$? For example, make a matrix for which $b=2a$ and $d = 2c$. "
      ]
    },
    {
      "cell_type": "code",
      "execution_count": 2,
      "metadata": {},
      "outputs": [
        {
          "name": "stdout",
          "output_type": "stream",
          "text": [
            "-2.0000000000000004\n",
            "-3.330669073875464e-16\n"
          ]
        }
      ],
      "source": [
        "# Creating Two 2x2 matrix using numpy\n",
        "\n",
        "A1 = np.array([[1,2],[3,4]]) \n",
        "A2 = np.array([[1,2],[3,6]]) # for b=2a and d = 2c condition\n",
        "\n",
        "# Calculating Determinant\n",
        "print(np.linalg.det(A1))\n",
        "print(np.linalg.det(A2))\n"
      ]
    },
    {
      "cell_type": "code",
      "execution_count": 3,
      "metadata": {},
      "outputs": [
        {
          "name": "stdout",
          "output_type": "stream",
          "text": [
            "[[-2.   1. ]\n",
            " [ 1.5 -0.5]]\n",
            "[[1.00000000e+00 1.11022302e-16]\n",
            " [0.00000000e+00 1.00000000e+00]]\n"
          ]
        }
      ],
      "source": [
        "# Calculating Inverse \n",
        "Ainv = np.linalg.inv(A1)\n",
        "print(Ainv)\n",
        "# Doing matrix multiplication\n",
        "print(np.matmul(A1, Ainv))"
      ]
    },
    {
      "cell_type": "markdown",
      "metadata": {},
      "source": [
        "In Latex \n",
        "\n",
        "The Matrix are :- \n",
        "$$A1 = \\begin{bmatrix} 1 & 2 \\\\ 3 & 4\\end{bmatrix}$$\n",
        "$$A2 = \\begin{bmatrix} 1 & 2 \\\\ 3 & 6\\end{bmatrix}$$\n",
        "\n",
        "The determinant of the matrix are :- \n",
        "$$ \\mathrm{det}(A1) = 1\\times 4 - 2\\times 3 = -2$$\n",
        "$$ \\mathrm{det}(A2) = 1\\times 6 - 2\\times 3 = 0$$\n",
        " \n",
        "The inverse of the matrix are :-\n",
        "$$A1^{-1} = \\frac{1}{-2}\\begin{bmatrix} 4 & -2 \\\\ -3 & 1\\end{bmatrix}$$\n",
        "$$A2^{-1} = \\frac{1}{0}\\begin{bmatrix} 6 & -2 \\\\ -3 & 1\\end{bmatrix}$$\n",
        "\n",
        "As we can see, the inverse of a matrix can not be calculated as the determinant is equal to zero. The condition b = 2a and d = 2c restricts us to proceed with the calculation. Hence, it is necessary to check the value of determinant before calculating the inverse.\n",
        "\n"
      ]
    },
    {
      "cell_type": "markdown",
      "metadata": {},
      "source": [
        "The product of matrix A1 with $A1^{-1}$ :-\n",
        "$$A1^{-1}\\times A1 = \\frac{1}{-2}\\begin{bmatrix} 1\\times 4 + 2\\times -3 & 1\\times -2 + 2\\times 1 \\\\ 3\\times 4 - 4\\times -3 & 3\\times -2 + 4\\times 1\\end{bmatrix}$$\n",
        "\n",
        "$$A1^{-1}\\times A1 = \\frac{1}{-2}\\begin{bmatrix} -2 & 0 \\\\ 0 & -2\\end{bmatrix}$$\n",
        "\n",
        "$$A1^{-1}\\times A1 = \\begin{bmatrix} 1 & 0 \\\\ 0 & 1\\end{bmatrix} = I$$\n",
        "\n",
        "$$A1^{-1}\\times A1 = I (Identity Matrix)$$\n"
      ]
    },
    {
      "cell_type": "markdown",
      "metadata": {
        "id": "8GbDgAkw3I4g"
      },
      "source": [
        "____\n",
        "\n",
        "## Problem 2: Polynomial Regression (15pts)\n",
        "\n",
        "We have learned that linear regression refers to fitting data to a model in which the weights appear linearly. But, the model itself need not use linear functions. The Gaussian RBFs we used were an example of that. Another very common choice is that of a polynomial. Let's code two cases in which the number of weights is and is not the same as the number of data points. \n",
        "\n",
        "We wish to model our data with a polynomial. The data you are given is:\n",
        "$$x = [-2, -0.5, 0, 1] ,$$\n",
        "$$y = [0, 0.9375, 1, 3] .$$\n",
        "Because you have four data points, you are tempted to use a model with four parameters, such as:\n",
        "$$y = w_0 + w_1x + w_2x^2 + w_3x^3 .$$\n",
        "But, you are also worried that the data may be noisy so you also want to fit it to only three weights. You decide that the $x^3$ term could cause large excursions that might follow the noise, so your second model is:\n",
        "$$y = w_0 + w_1x + w_2x^2.$$\n",
        "\n",
        "Using only libraries from `linalg`, fit the data to both models. Plot the data and the two resulting models. \n",
        "\n",
        "As we saw last week, the coding for this is trivial - the hard part is setting up the vectors and matrices. Slow down and be sure you understand what you are doing: this will help you set up the problem so that it is very easy. I'll give you a hint:\n",
        "$$\\underbrace{\\begin{bmatrix} y_1\\\\y_2\\\\y_3\\\\y_4\\end{bmatrix}}_{4\\times 1} = \\underbrace{\\begin{bmatrix} 0\\\\0.09375\\\\1\\\\3\\end{bmatrix}}_{4\\times 1} =\\underbrace{\\begin{bmatrix} 1 & -2 & 4 & 8 \\\\ 1 & -0.5 & 0.25 & 0.125 \\\\\\vdots  \\end{bmatrix}}_{4\\times 4}\\underbrace{\\begin{bmatrix} w_0\\\\w_1\\\\w_2\\\\w_3\\end{bmatrix}}_{4\\times 1}.$$\n",
        "It is crucial that you know where this came from!! \n",
        "\n",
        "You then use Python to get the weight vector ${\\bf w}$, which allows you to plot the resulting polynomial. In one case you will need to use the pseudoinverse, [the `pinv` function](https://numpy.org/doc/stable/reference/generated/numpy.linalg.pinv.html); or in [SciPy](https://docs.scipy.org/doc/scipy/reference/generated/scipy.linalg.pinv.html#scipy.linalg.pinv), because you have more data points than weights. \n",
        "\n",
        "If you write your code in a general way, you can also try the third model:\n",
        "$$y = w_0 + w_1x.$$\n",
        "In the world of machine learning, we would need to figure out which of these three models is the \"best\", a process called \"_model selection_\". We won't worry about it now, but I wanted you to at least be aware of the idea. A second idea I'll introduce here is \"_regularization_\", since it is connected. Regularization is penalizing weights that cause large excursions; here, we are doing this by hand by dropping the higher-order terms (e.g., setting $w_3=0$), thereby prohibiting predictions with large excursions.  There are very powerful techniques for automating this. There is a lot to learn from this problem other than just setting up regression problems and inverting a matrix! 🤓 \n",
        "\n",
        "\n",
        "\n"
      ]
    },
    {
      "cell_type": "code",
      "execution_count": 4,
      "metadata": {},
      "outputs": [
        {
          "data": {
            "text/plain": [
              "[<matplotlib.lines.Line2D at 0x1e015057100>]"
            ]
          },
          "execution_count": 4,
          "metadata": {},
          "output_type": "execute_result"
        },
        {
          "data": {
            "image/png": "[encoded data removed]",
            "text/plain": [
              "<Figure size 576x504 with 1 Axes>"
            ]
          },
          "metadata": {
            "needs_background": "light"
          },
          "output_type": "display_data"
        }
      ],
      "source": [
        "# Using linear algebra\n",
        "X = np.array([-2,-0.5,0,1])\n",
        "Y = np.array([0,0.9375,1,3])\n",
        "Y = Y.T\n",
        "\n",
        "def matrix(x,d):\n",
        "     \n",
        "    if (d == 3):\n",
        "        K = np.array([[1,x[i],x[i]**2,x[i]**3] for i in range(len(x))])\n",
        "    elif (d == 2) : \n",
        "        K = np.array([[1,x[i],x[i]**2] for i in range(len(x))])\n",
        "    elif (d == 1) :\n",
        "        K = np.array([[1,x[i]] for i in range(len(x))])\n",
        "    else :\n",
        "        print(\"Please choose D out of the following values - (1,2,3)\")\n",
        "    return (K)\n",
        "    \n",
        "    \n",
        "k3 = matrix(X,3)\n",
        "k2 = matrix(X,2)\n",
        "k1 = matrix(X,1)\n",
        "w3 = np.dot(np.dot(np.linalg.inv(np.dot(np.transpose(k3),k3)),np.transpose(k3)),Y)\n",
        "w_3 = np.linalg.inv(k3)@Y\n",
        "w2 = np.linalg.pinv(k2)@Y\n",
        "w1 = np.linalg.pinv(k1)@Y\n",
        "\n",
        "def model_pred(x,w):\n",
        "    y = x@w\n",
        "    return (y)\n",
        "\n",
        "xx = np.linspace(-2,1, 100)\n",
        "\n",
        "X3 = matrix(xx,3)\n",
        "X2 = matrix(xx,2)\n",
        "X1 = matrix(xx,1)\n",
        "Y3 = model_pred(X3,w3)\n",
        "Y2 = model_pred(X2,w2)\n",
        "Y1 = model_pred(X1,w1)\n",
        "\n",
        "plt.subplots(1,1,figsize=(8, 7))\n",
        "plt.scatter(X,Y)\n",
        "plt.plot(xx, Y3,'-r')\n",
        "plt.plot(xx, Y2,'--g')\n",
        "plt.plot(xx, Y1,':b')"
      ]
    },
    {
      "cell_type": "markdown",
      "metadata": {
        "id": "8vj2TdGXCFpK"
      },
      "source": [
        "____\n",
        "\n",
        "## Problem 3: Outer Product (5pts)\n",
        "\n",
        "Given the two vectors:\n",
        "$$v_1 = \\begin{bmatrix} 1 \\\\ 2 \\\\ 3\\end{bmatrix} \\: v_2 = \\begin{bmatrix} 1 \\\\ 1 \\\\ 1\\end{bmatrix},$$\n",
        "compute the two outer products\n",
        "$$v_1 v_2^T,$$\n",
        "and\n",
        "$$v_2 v_1^T.$$\n",
        "Do this _both_ by hand, and show your work using $\\LaTeX$, and using a NumPy or SciPy library. Does the order of the vectors matter for the outer product? What about the inner product? \n",
        "\n",
        "\n"
      ]
    },
    {
      "cell_type": "code",
      "execution_count": 5,
      "metadata": {},
      "outputs": [
        {
          "name": "stdout",
          "output_type": "stream",
          "text": [
            "[[6]]\n",
            "[[6]]\n",
            "The order in the outer product does not matter\n"
          ]
        }
      ],
      "source": [
        "# Computing using numpy\n",
        "# For outer product\n",
        "v1 = np.array([[1,2,3]])\n",
        "v2 = np.array([[1,1,1]])\n",
        "print(np.matmul(v1, v2.T))\n",
        "print(np.matmul(v2, v1.T))\n",
        "print(\"The order in the outer product does not matter\")"
      ]
    },
    {
      "cell_type": "code",
      "execution_count": 6,
      "metadata": {},
      "outputs": [
        {
          "name": "stdout",
          "output_type": "stream",
          "text": [
            "[[1 1 1]\n",
            " [2 2 2]\n",
            " [3 3 3]]\n",
            "[[1 2 3]\n",
            " [1 2 3]\n",
            " [1 2 3]]\n",
            "The order in the inner product does matter\n"
          ]
        }
      ],
      "source": [
        "# For inner product\n",
        "print(np.matmul(v1.T, v2))\n",
        "print(np.matmul(v2.T, v1))\n",
        "print(\"The order in the inner product does matter\")"
      ]
    },
    {
      "cell_type": "markdown",
      "metadata": {},
      "source": [
        "For outer product, we have our matrix as-\n",
        "$$v_1 = \\begin{bmatrix} 1 \\\\ 2 \\\\ 3\\end{bmatrix} \\: v_2 = \\begin{bmatrix} 1 \\\\ 1 \\\\ 1\\end{bmatrix},$$\n",
        "$$v_1 v_2^T = \\begin{bmatrix} 1 \\\\ 2 \\\\ 3\\end{bmatrix} \\begin{bmatrix} 1 & 1 & 1\\end{bmatrix} = \\begin{bmatrix} 1\\times 1 + 2\\times 1 + 3\\times 1\\end{bmatrix} = 6 $$\n",
        "$$v_2 v_1^T = \\begin{bmatrix} 1 \\\\ 1 \\\\ 1\\end{bmatrix} \\begin{bmatrix} 1 & 2 & 3\\end{bmatrix} = \\begin{bmatrix} 1\\times 1 + 1\\times 2 + 1\\times 3\\end{bmatrix} = 6 $$\n",
        "\n",
        "As the value is same in both the instances, we can say that the order does not matter in outer product. "
      ]
    },
    {
      "cell_type": "markdown",
      "metadata": {},
      "source": [
        "For inner product:-\n",
        "$$v_1^T v_2 = \\begin{bmatrix} 1 & 2 & 3\\end{bmatrix} \\begin{bmatrix} 1 \\\\ 1 \\\\ 1\\end{bmatrix} = \\begin{bmatrix} 1\\times 1 & 1\\times 1 & 1\\times 1\\\\ 2\\times 1 & 2\\times 1 & 2\\times 1\\\\ 3\\times 1 & 3\\times 1 & 3\\times 1\\end{bmatrix}$$\n",
        "$$v_1^T v_2 = \\begin{bmatrix} 1 & 1 & 1 \\\\ 2 & 2 & 2 \\\\ 3 & 3 & 3 \\end{bmatrix}$$\n",
        "$$v_2^T v_1 = \\begin{bmatrix} 1 & 1 & 1\\end{bmatrix} \\begin{bmatrix} 1 \\\\ 2 \\\\ 3\\end{bmatrix} = \\begin{bmatrix} 1\\times 1 & 1\\times 2 & 1\\times 3\\\\ 1\\times 1 & 1\\times 2 & 1\\times 3\\\\ 1\\times 1 & 1\\times 2 & 1\\times 3\\end{bmatrix}$$\n",
        "$$v_2^T v_1 = \\begin{bmatrix} 1 & 2 & 3 \\\\ 1 & 2 & 3 \\\\ 1 & 2 & 3 \\end{bmatrix}$$\n",
        "\n",
        "As we get different matrices from the inner products we can say that the order in the inner product matters in matrix multiplication. "
      ]
    },
    {
      "cell_type": "markdown",
      "metadata": {
        "id": "17MBxKFqSAar"
      },
      "source": [
        "____\n",
        "\n",
        "## Problem 4: SVD (10pts)\n",
        "\n",
        "Read in the iris dataset (get it from anywhere you want) and perform SVD on it [using the `linalg` library](https://numpy.org/doc/stable/reference/generated/numpy.linalg.svd.html). Answer these questions:\n",
        "1. what does `svd` return? discuss and show with code\n",
        "2. in what form does it return Σ? the full matrix? \n",
        "3. does `svd` return $V$ or $V^T$?\n",
        "4. what does a plot of the singular values $\\sigma_n$ versus $n$ look like? use both linear scale and log-linear"
      ]
    },
    {
      "cell_type": "code",
      "execution_count": 7,
      "metadata": {
        "id": "DeCPWGS4c8ld"
      },
      "outputs": [
        {
          "name": "stdout",
          "output_type": "stream",
          "text": [
            "[[-0.06161685  0.12961144  0.0021386  ... -0.09343429 -0.09573864\n",
            "  -0.08085465]\n",
            " [-0.05807094  0.11101978  0.07067239 ...  0.03690405 -0.03153954\n",
            "   0.01309526]\n",
            " [-0.05676305  0.11796647  0.00434255 ...  0.03066199  0.19531473\n",
            "   0.13569909]\n",
            " ...\n",
            " [-0.0940593  -0.0498297  -0.04144001 ...  0.98181631 -0.02194514\n",
            "  -0.00894446]\n",
            " [-0.09488961 -0.05610123 -0.21297821 ... -0.02155617  0.94178018\n",
            "  -0.02971961]\n",
            " [-0.08847836 -0.0515697  -0.09575285 ... -0.0086052  -0.03021088\n",
            "   0.9736599 ]]  The first orthogonal matrix U\n",
            "[95.95991387 17.76103366  3.46093093  1.88482631]  Singular values of our dataset Sigma\n",
            "[[-0.75110816 -0.38008617 -0.51300886 -0.16790754]\n",
            " [ 0.2841749   0.5467445  -0.70866455 -0.34367081]\n",
            " [ 0.50215472 -0.67524332 -0.05916621 -0.53701625]\n",
            " [ 0.32081425 -0.31725607 -0.48074507  0.75187165]]  The second singular vector matrix V.T\n"
          ]
        }
      ],
      "source": [
        "# starter code\n",
        "from sklearn.datasets import load_iris\n",
        "from sklearn import datasets\n",
        "from sklearn.preprocessing import StandardScaler\n",
        "\n",
        "data = load_iris()\n",
        "\n",
        "X = data[\"data\"]\n",
        "y = data[\"target\"]\n",
        "# print(X,y)\n",
        "# scaler = StandardScaler()\n",
        "# X = scaler.fit_transform(X)\n",
        "# now, to SVD....\n",
        "u, s, vh = np.linalg.svd(X)\n",
        "print(u, \" The first orthogonal matrix U\")\n",
        "print(s, \" Singular values of our dataset Sigma\")\n",
        "print(vh, \" The second singular vector matrix V.T\")"
      ]
    },
    {
      "cell_type": "markdown",
      "metadata": {},
      "source": [
        "* SVD is a data reduction tool, and gives us the most important features to analyse and describe the data. It can be said that it is data driven generalization of the fourier transformation. It is mainly used for linear system of equation for non square matrices. It is also basis of PCA, where singular vectors $U$ and $V^T$ represent the two different components of eigen vector. SVD helps us taking high dimension data and understanding the correlation between them. \n",
        "\n",
        "* The SVD takes a collection of column vector as input and gives its decomposition in three different matrices $U$ , sigma and $V^T$. The matrix $U$ and $V^T$ are unitary orthogonal matrices, arranged in manner of importance. That is, the most important singular vector are placed first in the matrices, and they provide the maximum information gain on the data. Similarly, singular values are also arranged in manner of importance. \n",
        "\n",
        "* The singular value decomposition can be computed using the following observations:\n",
        "    * The left-singular vectors of X are a set of orthonormal eigenvectors of $XX^T$\n",
        "    * The right-singular vectors of X are a set of orthonormal eigenvectors of $X^TX$\n",
        "    * The non-zero singular values of X (found on the diagonal entries of $\\mathbf{\\Sigma}$) are the square roots of the non-zero eigenvalues of both $X^TX$ and $XX^T$.\n",
        "\n",
        "* The left and right matrices are rotation or reflection of the space and sigma matrix represents the scaling of each coordinate by respective sigma value.\n",
        "\n",
        "* The function returned sigma in form of ndarray of size four\n",
        "\n",
        "* The function SVD in numpy returns $V^T$"
      ]
    },
    {
      "cell_type": "code",
      "execution_count": 8,
      "metadata": {},
      "outputs": [
        {
          "data": {
            "text/plain": [
              "[<matplotlib.lines.Line2D at 0x1e0174edb80>]"
            ]
          },
          "execution_count": 8,
          "metadata": {},
          "output_type": "execute_result"
        },
        {
          "data": {
            "image/png": "[encoded data removed]",
            "text/plain": [
              "<Figure size 432x288 with 1 Axes>"
            ]
          },
          "metadata": {
            "needs_background": "light"
          },
          "output_type": "display_data"
        }
      ],
      "source": [
        "plt.plot(s)"
      ]
    },
    {
      "cell_type": "code",
      "execution_count": 9,
      "metadata": {},
      "outputs": [
        {
          "data": {
            "text/plain": [
              "[<matplotlib.lines.Line2D at 0x1e017566670>]"
            ]
          },
          "execution_count": 9,
          "metadata": {},
          "output_type": "execute_result"
        },
        {
          "data": {
            "image/png": "[encoded data removed]",
            "text/plain": [
              "<Figure size 432x288 with 1 Axes>"
            ]
          },
          "metadata": {
            "needs_background": "light"
          },
          "output_type": "display_data"
        }
      ],
      "source": [
        "plt.plot(np.log(s))"
      ]
    },
    {
      "cell_type": "markdown",
      "metadata": {
        "id": "5B8pv-MfSF-8"
      },
      "source": [
        "____\n",
        "\n",
        "## Problem 5: SVD (10pts)\n",
        "\n",
        "We are going to use real (iris) data to understand the singular values a bit better. The idea is very simple: we want to take a data matrix and approximate is with a lower rank matrix, using the singular values as our guide.\n",
        "\n",
        "If you take the SVD and write it out in terms of the columns of $U$ and $V$, which are vectors, you will find that\n",
        "$$X = \\sum_{i=1}^r \\sigma_i {\\bf u}_i {\\bf v}^T_i .$$\n",
        "\n",
        "Be sure you understand the shape of these vectors/matrices! Are these matrix multiplications, inner products, outer products? Go slowly and be sure you understand what you are looking at. \n",
        "\n",
        "If we start in 2D and only use the first singular value in this sum, then the result should be...._in 1D_? Let's check! \n",
        "\n",
        "* Take the iris dataset and choose any two columns; in fact, try all combinations of two columns. \n",
        "* Plot one column versus the other.\n",
        "* From those two columns, find its SVD. \n",
        "* From the SVD for a new, smaller $X$ using only the $i=1$ term in that sum ($X \\approx \\sigma_1 {\\bf u}_1 {\\bf v}_1^T$). \n",
        "* Add to the plot you just made the data in the new matrix. (That is, plot one column versus the other, on top of the original data.) \n",
        "\n",
        "A hint is to use the result from the outer product library you explored above. \n",
        "\n",
        "There is one issue that could be confusing: what is ${\\bf v}^T_i$? This is the $i$ th column of ${\\bf v}$, then transposed. It is **not** the $i$ th column of $V^T$!! If it helps, [read this page](https://en.wikipedia.org/wiki/Singular_value_decomposition). \n"
      ]
    },
    {
      "cell_type": "code",
      "execution_count": 10,
      "metadata": {
        "colab": {
          "base_uri": "https://localhost:8080/",
          "height": 299
        },
        "id": "9sEY8v_NVcTt",
        "outputId": "c353dcd7-943d-4ee3-d118-c2b4c5d5f3a7"
      },
      "outputs": [
        {
          "name": "stdout",
          "output_type": "stream",
          "text": [
            "The Σ that was returned is: [53.63004331  2.97631552]\n"
          ]
        },
        {
          "data": {
            "image/png": "[encoded data removed]",
            "text/plain": [
              "<Figure size 432x288 with 1 Axes>"
            ]
          },
          "metadata": {
            "needs_background": "light"
          },
          "output_type": "display_data"
        }
      ],
      "source": [
        "# starter code\n",
        "from sklearn.datasets import load_iris\n",
        "data = load_iris()\n",
        "\n",
        "# choose two columns out of the four\n",
        "A = data[\"data\"][:,2:4]\n",
        "\n",
        "# let's look at it\n",
        "plt.plot(A[:,0], A[:,1],'^')\n",
        "plt.title(\"raw data\")\n",
        "\n",
        "# perform SVD\n",
        "U, S, VT = linalg.svd(A)\n",
        "V = VT.T\n",
        "\n",
        "print(\"The Σ that was returned is:\", S)"
      ]
    },
    {
      "cell_type": "code",
      "execution_count": 11,
      "metadata": {
        "id": "EwsCmYecYCZt"
      },
      "outputs": [
        {
          "data": {
            "text/plain": [
              "[<matplotlib.lines.Line2D at 0x1e01763baf0>]"
            ]
          },
          "execution_count": 11,
          "metadata": {},
          "output_type": "execute_result"
        },
        {
          "data": {
            "image/png": "[encoded data removed]",
            "text/plain": [
              "<Figure size 432x288 with 1 Axes>"
            ]
          },
          "metadata": {
            "needs_background": "light"
          },
          "output_type": "display_data"
        }
      ],
      "source": [
        "# helper code, if you need it...\n",
        "# if you use this, open a markdown cell and explain every detail\n",
        "smaller = S[0]*np.outer(U[:,0],V[:,0]) \n",
        "plt.plot(smaller[:,0], smaller[:,1])\n",
        "plt.plot(A[:,0], A[:,1], '^')"
      ]
    },
    {
      "cell_type": "markdown",
      "metadata": {},
      "source": [
        "In the above code, a smaller matrix is calculated in the line `smaller = S[0]*np.outer(U[:,0],V[:,0])`. Here, we are taking the first value/vector of all the matrices (S,U,V) we created from SVD. `S[0]` fetches the first value from the S array, i.e. *53.63* in our case. `np.outer` performs the outer product between the vectors/columns present at 0th position of the matrices `U` and `V`. The outer product performs the transpose operation for us, thus we do not have to explicitly perform the operation. \n",
        "\n",
        "The code `plt.plot(smaller[:,0], smaller[:,1]) and plt.plot(A[:,0], A[:,1], '^')` simply plots both the vectors/columns present in smaller and A matrices. In this way, we are able to examine the original data, and the constructed data from the SVD. \n",
        "\n",
        "Note- If we add all the singular value decomposition we will get our original raw data."
      ]
    },
    {
      "cell_type": "code",
      "execution_count": 12,
      "metadata": {},
      "outputs": [
        {
          "name": "stdout",
          "output_type": "stream",
          "text": [
            "The Σ that was returned is: [73.96029483  7.48697458]\n"
          ]
        },
        {
          "data": {
            "image/png": "[encoded data removed]",
            "text/plain": [
              "<Figure size 432x288 with 1 Axes>"
            ]
          },
          "metadata": {
            "needs_background": "light"
          },
          "output_type": "display_data"
        }
      ],
      "source": [
        "# choose two columns out of the four\n",
        "# After trying all the column combinations, going with column  0 and 3 to get the best fit for our smaller matrix with rank = 1\n",
        "A = data[\"data\"][:,[0,3]]\n",
        "\n",
        "# let's look at it\n",
        "plt.plot(A[:,0], A[:,1],'^')\n",
        "plt.title(\"raw data\")\n",
        "\n",
        "# perform\n",
        "U, S, VT = linalg.svd(A)\n",
        "V = VT.T\n",
        "\n",
        "print(\"The Σ that was returned is:\", S)"
      ]
    },
    {
      "cell_type": "code",
      "execution_count": 13,
      "metadata": {},
      "outputs": [
        {
          "data": {
            "text/plain": [
              "[<matplotlib.lines.Line2D at 0x1e017719040>]"
            ]
          },
          "execution_count": 13,
          "metadata": {},
          "output_type": "execute_result"
        },
        {
          "data": {
            "image/png": "[encoded data removed]",
            "text/plain": [
              "<Figure size 432x288 with 1 Axes>"
            ]
          },
          "metadata": {
            "needs_background": "light"
          },
          "output_type": "display_data"
        }
      ],
      "source": [
        "smaller = S[0]*np.outer(U[:,0],V[:,0])   \n",
        "plt.plot(smaller[:,0], smaller[:,1], \"*\")\n",
        "plt.plot(A[:,0], A[:,1], '^')"
      ]
    },
    {
      "cell_type": "code",
      "execution_count": 14,
      "metadata": {},
      "outputs": [
        {
          "data": {
            "text/plain": [
              "[<matplotlib.lines.Line2D at 0x1e017781970>]"
            ]
          },
          "execution_count": 14,
          "metadata": {},
          "output_type": "execute_result"
        },
        {
          "data": {
            "image/png": "[encoded data removed]",
            "text/plain": [
              "<Figure size 432x288 with 1 Axes>"
            ]
          },
          "metadata": {
            "needs_background": "light"
          },
          "output_type": "display_data"
        }
      ],
      "source": [
        "# When adding upto the rank of the matrix. # To analyse. \n",
        "exact = S[0]*np.outer(U[:,0],V[:,0]) + S[1]*np.outer(U[:,1],V[:,1])  \n",
        "plt.plot(exact[:,0], exact[:,1], \"*\")\n",
        "plt.plot(A[:,0], A[:,1], '^')"
      ]
    }
  ],
  "metadata": {
    "colab": {
      "collapsed_sections": [],
      "provenance": []
    },
    "kernelspec": {
      "display_name": "Python 3.9.12 ('base')",
      "language": "python",
      "name": "python3"
    },
    "language_info": {
      "codemirror_mode": {
        "name": "ipython",
        "version": 3
      },
      "file_extension": ".py",
      "mimetype": "text/x-python",
      "name": "python",
      "nbconvert_exporter": "python",
      "pygments_lexer": "ipython3",
      "version": "3.9.12"
    },
    "vscode": {
      "interpreter": {
        "hash": "bc82a76b3c96522903f226fe9c57afbadab04c61bb80a2fbc4df8ebc2c4f604f"
      }
    }
  },
  "nbformat": 4,
  "nbformat_minor": 0
}

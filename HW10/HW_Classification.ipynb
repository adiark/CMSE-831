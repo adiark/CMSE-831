{
  "cells": [
    {
      "cell_type": "markdown",
      "metadata": {
        "id": "5b-pJCzwF9kq"
      },
      "source": [
        "___\n",
        "# HW: More Details on Classification\n",
        "\n",
        "Because we have a holliday this week, I made this HW very straightforward. The goal is for you to see how to do classification in more depth, in case you want to use it in your final project. I noticed that a lot of the datasets you used for the midterm project are great for classification problems. \n",
        "\n",
        "Whether you use in this in your project or not, this HW illustrates an extremely important aspect of classification. What you will see is that, despite some naive similarities, classification is quite different from regression in practice.\n",
        "\n",
        "Again, you'll use the iris dataset since you now have a lot of intuition for it. \n",
        "\n",
        "Because this is a holiday week, I want this to be short. What I have done is written the entire code for you. All you need to do is read the notebook, answer some questions and comment the code. \n",
        "\n",
        "One comment before we dive into the code. The iris dataset is known to be \"easy\". If we use these powerful ML models on the complete dataset, we often get a perfect prediction. For this reason, I grab only the first two columns in line 11. Change this to use 3 or 4 columns, and compare the scores you get; this is a very nice ML lesson. \n",
        "\n",
        "\n",
        "\n",
        "\n",
        "\n",
        "\n",
        "\n",
        "\n",
        "\n",
        "\n"
      ]
    },
    {
      "cell_type": "markdown",
      "metadata": {
        "id": "jXFQC3Fg-Vs8"
      },
      "source": [
        "____\n",
        "\n",
        "## Step 1: Get Data"
      ]
    },
    {
      "cell_type": "code",
      "execution_count": 71,
      "metadata": {
        "id": "4B2yalrw-eQx"
      },
      "outputs": [],
      "source": [
        "# comment every line, unless it is very obvious (e.g., NumPy)\n",
        "\n",
        "import numpy as np\n",
        "import matplotlib.pyplot as plt\n",
        "\n",
        "from sklearn import datasets\n",
        "from sklearn.model_selection import train_test_split\n",
        "from sklearn.preprocessing import StandardScaler\n",
        "\n",
        "iris_data = datasets.load_iris() # data load\n",
        "X = iris_data.data[:, :2] # what is happening here? Ans - We are selecting the first two columns from iris dataset\n",
        "y = iris_data.target # selecting Y (dependent) variable\n"
      ]
    },
    {
      "cell_type": "markdown",
      "metadata": {
        "id": "QyBiLTsi_EgU"
      },
      "source": [
        "____\n",
        "## Step 2: Preprocess Data\n",
        "\n",
        "What is being done here has a small subtlety. In line 8, a scaler is instantiated (created for use), but it isn't used until line 9. In line 9, the scaler only learns from the data how to do the scaling - *it doesn't actually do the scaling!* \n",
        "\n",
        "Why? This is so that you can use that information to scale anything you want using the rules it learned. For example, we learn the scaling from the training data (line 9), but we scale **both** the training and test in lines 11 and 13. \n",
        "\n",
        "Can you think of why we would do this? The reason is that in the real world we would only have the training data - we cannot learn how to scale the data from data we have never seen. But, once we learn a good scaling and train our ML models using that rule, we should apply it to future data, which could be our test data or real world data once the ML is deployed. "
      ]
    },
    {
      "cell_type": "code",
      "execution_count": 73,
      "metadata": {
        "id": "p0rUyw6z_MZJ"
      },
      "outputs": [],
      "source": [
        "# comment every line in detail\n",
        "\n",
        "start_state = 42 # choosing state for same output\n",
        "test_fraction = 0.2 # to split the data in train and test set\n",
        "\n",
        "# using train_test_split we are splitting our data into train 80% and test 20% dataset. And X and y contains independent and dependent variable respectively   \n",
        "X_train, X_test, y_train, y_test = train_test_split(X, y, test_size=test_fraction, random_state=start_state) \n",
        "\n",
        "\n",
        "my_scaler = StandardScaler() # initiating standardScaler object as my_scaler\n",
        "# fitting scaler to our training data\n",
        "my_scaler.fit(X_train) # why isn't y_train used here? Ans - Because y_train is the dependent variable (output prediction) and hence it never requires scaling.\n",
        "X_train_scaled = my_scaler.transform(X_train) # scaling performed on X_train\n",
        "X_test_scaled = my_scaler.transform(X_test) # scaling performed on X_test"
      ]
    },
    {
      "cell_type": "code",
      "execution_count": 74,
      "metadata": {
        "colab": {
          "base_uri": "https://localhost:8080/",
          "height": 392
        },
        "id": "0Zpf7O3LBOgM",
        "outputId": "44355665-a43b-43a4-ccd7-b33fbc6b348b"
      },
      "outputs": [
        {
          "data": {
            "text/plain": [
              "<matplotlib.legend.Legend at 0x2344806d240>"
            ]
          },
          "execution_count": 74,
          "metadata": {},
          "output_type": "execute_result"
        },
        {
          "data": {
            "image/png": "[encoded data removed]",
            "text/plain": [
              "<Figure size 600x600 with 1 Axes>"
            ]
          },
          "metadata": {},
          "output_type": "display_data"
        }
      ],
      "source": [
        "# comment non-obvious lines\n",
        "\n",
        "plt.figure(figsize=(6,6)) # initiating figure\n",
        "plt.scatter(X_train[:,0], X_train[:,1], label='original') # Scatter plot of first and second column of original non scaled data\n",
        "plt.scatter(X_train_scaled[:,0], X_train_scaled[:,1], label='scaled') # Scatter plot of first and second column of scaled data\n",
        "plt.grid(alpha=0.15) # adding grid lines\n",
        "plt.legend() # adding legend"
      ]
    },
    {
      "cell_type": "markdown",
      "metadata": {
        "id": "kbBEbAEeC-vl"
      },
      "source": [
        "____\n",
        "## Step 3: Learn!\n",
        "\n",
        "I don't usually like putting import statements down here, but I wanted to group them away from the others above. \n",
        "\n",
        "What I really want you to see is that the estimator could be anything - here, I use two and most of the code is totally unchanged! Add as many classifiers as you want - run them all! "
      ]
    },
    {
      "cell_type": "code",
      "execution_count": 75,
      "metadata": {
        "id": "77M72dWCCDo5"
      },
      "outputs": [],
      "source": [
        "# switch between the classifiers and rerun the code\n",
        "\n",
        "from sklearn.tree import DecisionTreeClassifier\n",
        "my_classifier1 = DecisionTreeClassifier(criterion='gini', random_state=0) # using decision tree algorithm as the classifier with gini index as our splitting criteria\n",
        "\n",
        "from sklearn import neighbors \n",
        "n_neighbors = 2 # defining number of neighbours we want for the KNN\n",
        "my_classifier2 = neighbors.KNeighborsClassifier(n_neighbors) # initiating classifier\n",
        "\n",
        "# importing bunch of classifiers\n",
        "from sklearn.neural_network import MLPClassifier\n",
        "from sklearn.svm import SVC\n",
        "from sklearn.gaussian_process import GaussianProcessClassifier\n",
        "from sklearn.gaussian_process.kernels import RBF\n",
        "from sklearn.ensemble import RandomForestClassifier, AdaBoostClassifier\n",
        "from sklearn.naive_bayes import GaussianNB\n",
        "from sklearn.discriminant_analysis import QuadraticDiscriminantAnalysis\n",
        "\n"
      ]
    },
    {
      "cell_type": "code",
      "execution_count": 76,
      "metadata": {},
      "outputs": [],
      "source": [
        "# initiating classifiers for comparision \n",
        "my_classifier3 = SVC(kernel=\"linear\",random_state=0)\n",
        "my_classifier4 = SVC(gamma=2,random_state=0)\n",
        "my_classifier5 = GaussianProcessClassifier(random_state=0)\n",
        "my_classifier6 = RandomForestClassifier(random_state=0)\n",
        "my_classifier7 = MLPClassifier(alpha=1, max_iter=1000,random_state=0)\n",
        "my_classifier8 = AdaBoostClassifier(random_state=0)\n",
        "my_classifier9 = GaussianNB()\n",
        "my_classifier10 = QuadraticDiscriminantAnalysis()"
      ]
    },
    {
      "cell_type": "code",
      "execution_count": 78,
      "metadata": {
        "colab": {
          "base_uri": "https://localhost:8080/"
        },
        "id": "pFcenuoQDIyJ",
        "outputId": "e20b47e3-81e1-4f7e-97c9-7e9b95ed3731"
      },
      "outputs": [
        {
          "data": {
            "text/plain": [
              "0.6333333333333333"
            ]
          },
          "execution_count": 78,
          "metadata": {},
          "output_type": "execute_result"
        }
      ],
      "source": [
        "# note that this code doesn't care which estimator you chose\n",
        "\n",
        "my_model1 = my_classifier1.fit(X_train_scaled, y_train) # fitting decision tree classifier in our scalled dataset\n",
        "\n",
        "my_model1.score(X_test_scaled, y_test) # calculating the score of our model"
      ]
    },
    {
      "cell_type": "code",
      "execution_count": null,
      "metadata": {},
      "outputs": [],
      "source": [
        "# my_model1 = my_classifier1.fit(X_train, y_train) # fitting decision tree classifier on our non scalled dataset\n",
        "\n",
        "# my_model1.score(X_test, y_test) # calculating the score of our model"
      ]
    },
    {
      "cell_type": "code",
      "execution_count": 79,
      "metadata": {},
      "outputs": [
        {
          "data": {
            "text/plain": [
              "0.7"
            ]
          },
          "execution_count": 79,
          "metadata": {},
          "output_type": "execute_result"
        }
      ],
      "source": [
        "my_model2 = my_classifier2.fit(X_train_scaled, y_train)\n",
        "\n",
        "my_model2.score(X_test_scaled, y_test)"
      ]
    },
    {
      "cell_type": "code",
      "execution_count": 80,
      "metadata": {},
      "outputs": [
        {
          "data": {
            "text/plain": [
              "0.9"
            ]
          },
          "execution_count": 80,
          "metadata": {},
          "output_type": "execute_result"
        }
      ],
      "source": [
        "my_model3 = my_classifier3.fit(X_train_scaled, y_train)\n",
        "\n",
        "my_model3.score(X_test_scaled, y_test)"
      ]
    },
    {
      "cell_type": "code",
      "execution_count": 81,
      "metadata": {},
      "outputs": [
        {
          "data": {
            "text/plain": [
              "0.8666666666666667"
            ]
          },
          "execution_count": 81,
          "metadata": {},
          "output_type": "execute_result"
        }
      ],
      "source": [
        "my_model4 = my_classifier4.fit(X_train_scaled, y_train)\n",
        "\n",
        "my_model4.score(X_test_scaled, y_test)"
      ]
    },
    {
      "cell_type": "code",
      "execution_count": 82,
      "metadata": {},
      "outputs": [
        {
          "data": {
            "text/plain": [
              "0.9"
            ]
          },
          "execution_count": 82,
          "metadata": {},
          "output_type": "execute_result"
        }
      ],
      "source": [
        "my_model5 = my_classifier5.fit(X_train_scaled, y_train)\n",
        "\n",
        "my_model5.score(X_test_scaled, y_test)"
      ]
    },
    {
      "cell_type": "code",
      "execution_count": 83,
      "metadata": {},
      "outputs": [
        {
          "data": {
            "text/plain": [
              "0.8"
            ]
          },
          "execution_count": 83,
          "metadata": {},
          "output_type": "execute_result"
        }
      ],
      "source": [
        "my_model6 = my_classifier6.fit(X_train_scaled, y_train)\n",
        "\n",
        "my_model6.score(X_test_scaled, y_test)"
      ]
    },
    {
      "cell_type": "code",
      "execution_count": 84,
      "metadata": {},
      "outputs": [
        {
          "data": {
            "text/plain": [
              "0.9"
            ]
          },
          "execution_count": 84,
          "metadata": {},
          "output_type": "execute_result"
        }
      ],
      "source": [
        "my_model7 = my_classifier7.fit(X_train_scaled, y_train)\n",
        "\n",
        "my_model7.score(X_test_scaled, y_test)"
      ]
    },
    {
      "cell_type": "code",
      "execution_count": 85,
      "metadata": {},
      "outputs": [
        {
          "data": {
            "text/plain": [
              "0.6333333333333333"
            ]
          },
          "execution_count": 85,
          "metadata": {},
          "output_type": "execute_result"
        }
      ],
      "source": [
        "my_model8 = my_classifier8.fit(X_train_scaled, y_train)\n",
        "\n",
        "my_model8.score(X_test_scaled, y_test)"
      ]
    },
    {
      "cell_type": "code",
      "execution_count": 86,
      "metadata": {},
      "outputs": [
        {
          "data": {
            "text/plain": [
              "0.9"
            ]
          },
          "execution_count": 86,
          "metadata": {},
          "output_type": "execute_result"
        }
      ],
      "source": [
        "my_model9 = my_classifier9.fit(X_train_scaled, y_train)\n",
        "\n",
        "my_model9.score(X_test_scaled, y_test)"
      ]
    },
    {
      "cell_type": "code",
      "execution_count": 87,
      "metadata": {},
      "outputs": [
        {
          "data": {
            "text/plain": [
              "0.9"
            ]
          },
          "execution_count": 87,
          "metadata": {},
          "output_type": "execute_result"
        }
      ],
      "source": [
        "my_model10 = my_classifier10.fit(X_train_scaled, y_train)\n",
        "\n",
        "my_model10.score(X_test_scaled, y_test)"
      ]
    },
    {
      "cell_type": "markdown",
      "metadata": {
        "id": "1UJAMWPmEGwq"
      },
      "source": [
        "With everything trained, you can deploy the model and make predictions. All you need to do is pass in an $X$ and the model will return a $y$. Let's try this with the test data. Try it with your own input."
      ]
    },
    {
      "cell_type": "code",
      "execution_count": 36,
      "metadata": {
        "id": "Kxmg8Jt2DouD"
      },
      "outputs": [],
      "source": [
        "y_pred = my_model1.predict(X_test_scaled) # Predicting using our model"
      ]
    },
    {
      "cell_type": "code",
      "execution_count": 37,
      "metadata": {},
      "outputs": [],
      "source": [
        "y_pred10 = my_model10.predict(X_test_scaled)"
      ]
    },
    {
      "cell_type": "code",
      "execution_count": 38,
      "metadata": {
        "colab": {
          "base_uri": "https://localhost:8080/"
        },
        "id": "vHEa6PVBEFW8",
        "outputId": "cf1d47bd-5c00-46ee-b2bf-e98d36034098"
      },
      "outputs": [
        {
          "data": {
            "text/plain": [
              "array([1, 0, 2, 1, 1, 0, 1, 2, 1, 1, 2, 0, 0, 0, 0, 1, 2, 1, 1, 2, 0, 2,\n",
              "       0, 2, 2, 2, 2, 2, 0, 0])"
            ]
          },
          "execution_count": 38,
          "metadata": {},
          "output_type": "execute_result"
        }
      ],
      "source": [
        "y_test"
      ]
    },
    {
      "cell_type": "markdown",
      "metadata": {
        "id": "Kqp5UbNYHHWp"
      },
      "source": [
        "At this point, you should go back and play with the number of columns and the scaling. If you use 3 columns does the score go up or down? What if you comment out the code that scales the data - does that impact the score? "
      ]
    },
    {
      "cell_type": "markdown",
      "metadata": {},
      "source": [
        "**Answer**\n",
        "* Adding one more column for analysing increased the classifying accuracy of our model, while adding all columns gave us a perfect classification score of 1, but that might not always be the case if we are overfitting our model with excess of data. \n",
        "* In iris dataset scaling the columns produced different effects with different algorithms, some cases performed similar to scaled dataset, some performed worse and some performed better. However, as Iris dataset is a curated data, we might not often find the same case in real life dataset. Thus, scaling in general is beneficial to avoid biasnes.  "
      ]
    },
    {
      "cell_type": "markdown",
      "metadata": {
        "id": "PDxcgg8IH57N"
      },
      "source": [
        "____\n",
        "____\n",
        "## Step 4:  The Interesting Part!!\n",
        "\n",
        "Everything above is pretty straightforward. If you were doing, say, regression, nearly everything would be identical once you swapped regression estimators for the classifiers. \n",
        "\n",
        "Now, I want to introduce you to a very important metric that is _used for classification specifically_. This metric is called the confusion matrix. \n",
        "\n",
        "Let's bring the code in. (Again, I would normally put this at the top...)\n"
      ]
    },
    {
      "cell_type": "code",
      "execution_count": 97,
      "metadata": {
        "id": "6h1uRZUAEWhj"
      },
      "outputs": [],
      "source": [
        "from sklearn.metrics import confusion_matrix, ConfusionMatrixDisplay"
      ]
    },
    {
      "cell_type": "markdown",
      "metadata": {
        "id": "6DR_CevSImNJ"
      },
      "source": [
        "You might have heard of a confusion matrix before. If not, you have certainly heard of \"false positives\" and \"false negatives\" - we use that terminology in our everyday speech. [Read this to review/learn the basic ideas.](https://en.wikipedia.org/wiki/Confusion_matrix) \n",
        "\n",
        "The [code](https://scikit-learn.org/stable/modules/generated/sklearn.metrics.confusion_matrix.html#sklearn.metrics.confusion_matrix) is simple:"
      ]
    },
    {
      "cell_type": "code",
      "execution_count": 98,
      "metadata": {
        "id": "WSvJAI_5JAVZ"
      },
      "outputs": [],
      "source": [
        "conf_mat = confusion_matrix(y_test, y_pred) # creating confusion matrix from our actual and predicted value"
      ]
    },
    {
      "cell_type": "code",
      "execution_count": 99,
      "metadata": {
        "colab": {
          "base_uri": "https://localhost:8080/"
        },
        "id": "Ps09AnPOJIXp",
        "outputId": "d5c0fef8-0946-42e4-eb6b-01a5a2f90d9a"
      },
      "outputs": [
        {
          "name": "stdout",
          "output_type": "stream",
          "text": [
            "[[9 1 0]\n",
            " [0 4 5]\n",
            " [0 5 6]]\n"
          ]
        }
      ],
      "source": [
        "print(conf_mat) # printing out"
      ]
    },
    {
      "cell_type": "code",
      "execution_count": 100,
      "metadata": {
        "colab": {
          "base_uri": "https://localhost:8080/",
          "height": 320
        },
        "id": "GBvceKbTJdcV",
        "outputId": "46621871-81b4-4bb5-c033-98c81ed2aca9"
      },
      "outputs": [
        {
          "data": {
            "text/plain": [
              "<sklearn.metrics._plot.confusion_matrix.ConfusionMatrixDisplay at 0x234480cfbe0>"
            ]
          },
          "execution_count": 100,
          "metadata": {},
          "output_type": "execute_result"
        },
        {
          "data": {
            "image/png": "[encoded data removed]",
            "text/plain": [
              "<Figure size 640x480 with 2 Axes>"
            ]
          },
          "metadata": {},
          "output_type": "display_data"
        }
      ],
      "source": [
        "ConfusionMatrixDisplay.from_estimator(my_classifier1, X_test_scaled, y_test) # displaying confusion matrix of our test data prediction"
      ]
    },
    {
      "cell_type": "markdown",
      "metadata": {
        "id": "Dsi5ydwNK893"
      },
      "source": [
        "In a markdown cell, describe what this displays. Interpret its meaning in terms of FPs, FNs, etc. Change things (number of columns, estimator) to see how the confusion matrix is impacted. \n",
        "\n",
        "If you do classification for your final project, you probably want to include this! It tells you how well your classifier is working; and, it tells **how** it fails when it does. "
      ]
    },
    {
      "cell_type": "markdown",
      "metadata": {},
      "source": [
        "**Answer**\n",
        "\n",
        "* The confusion matrix above displays the accuracy of the actual label in our dataset vs the predicted label by the classifier.\n",
        "* The main diagonal values in the matrix represents the True positives, i.e. our model predicted the right label for those cases\n",
        "* The values other than main diagonal can be termed as false positive and false negative. These are the cases where our model failed to classify correctly with the actual value\n",
        "* If we increase number of columns our confusion matrix have more values in the main diagonal, as the accuracy increases of our model. False positive and false negative also decreases. \n",
        "* Changing estimator also changes the confusion matrix but major impacts on accuracy is only observed when number of columns are increased"
      ]
    }
  ],
  "metadata": {
    "colab": {
      "provenance": []
    },
    "kernelspec": {
      "display_name": "Python 3.10.7 64-bit",
      "language": "python",
      "name": "python3"
    },
    "language_info": {
      "codemirror_mode": {
        "name": "ipython",
        "version": 3
      },
      "file_extension": ".py",
      "mimetype": "text/x-python",
      "name": "python",
      "nbconvert_exporter": "python",
      "pygments_lexer": "ipython3",
      "version": "3.10.7"
    },
    "vscode": {
      "interpreter": {
        "hash": "bcb63d2e3d3ff8e4a12a5de5542e8a8fd3011a00aec1a355033d42d47bd9744f"
      }
    }
  },
  "nbformat": 4,
  "nbformat_minor": 0
}

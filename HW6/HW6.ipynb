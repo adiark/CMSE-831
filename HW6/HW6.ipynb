{
  "cells": [
    {
      "cell_type": "markdown",
      "metadata": {
        "id": "MImc3IGNx-vh"
      },
      "source": [
        "____\n",
        "# HW: Linear Regression"
      ]
    },
    {
      "cell_type": "markdown",
      "metadata": {
        "id": "LHPjoRNQySfy"
      },
      "source": [
        "____\n",
        "![loss](https://miro.medium.com/max/574/1*mOjTP97xJacJLEAQx_L9eA.png)\n",
        "____\n",
        "## Problem #1 (10pts)\n",
        "\n",
        "Derive the basic equations given in class for linear regression (LR) in 1D. Show all of your work. Open a markdown cell and use [$\\LaTeX$](https://ashki23.github.io/markdown-latex.html) for the equations. \n",
        "\n",
        "That is, use the MSE:\n",
        "$${\\cal L}(m,b) = \\frac{1}{2}\\sum_d \\left(y_d - mx_d - b \\right)^2,$$\n",
        "and the minimization condition\n",
        "$$\\frac{\\partial {\\cal L}}{\\partial m} = 0,$$\n",
        "$$\\frac{\\partial {\\cal L}}{\\partial b} = 0.$$\n",
        "Solve for $m$ and $b$ and write your answer in terms of statistical quantities such as the variances, covariances and/or means. Note that you have two equations in two unknowns; you will have to solve those simultaneous equations to get the expressions for $m$ and $b$. \n",
        "\n",
        "There are many different notations used for these types of problems. I suggest you establish a convention you like to use and stick with it. Here is what I propose we use for now:\n",
        "\n",
        "* expectation value (mean)\n",
        "$$\\mathrm{E}[X] \\equiv \\langle X\\rangle \\equiv \\mu,$$\n",
        "$$    = \\frac{1}{N}\\sum_{d=1}^N x_d,$$\n",
        "where $d$ is the sum over the $N$ data points. \n",
        "\n",
        "* variance\n",
        "$$\\mathrm{Var}[X] = \\mathrm{E}[(X - \\mathrm{E}[X])^2],$$\n",
        "$$    = \\mathrm{E}[X^2] - \\mathrm{E}[X]^2,$$\n",
        "$$    = \\langle X^2\\rangle - \\mu^2,$$\n",
        "$$    = \\mathrm{Cov}[X,X].$$\n",
        "\n",
        "* covariance\n",
        "$$\\mathrm{Cov}[X,Y] = \\mathrm{E}[(X - \\mathrm{E}[X])(Y - \\mathrm{E}[Y])],$$\n",
        "$$    = \\mathrm{E}[XY] - \\mathrm{E}[X]\\mathrm{E}[Y].$$\n",
        "\n",
        "I tried to follow definitions used in Wikipedia so that we can all use the same conventions. Note that I have indicated some options for the mean so that you get used to seeing different forms. \n",
        "\n",
        "I wanted to comment on these conventions. There are two choices here that are not universal: the factor of $\\frac{1}{2}$ in ${\\cal L}$ and the factor of $\\frac{1}{N}$ in the statistical quantities. Neither of these choices really matters as long as you:\n",
        "* are consistent everywhere in your math,\n",
        "* use other people's libraries correctly (e.g., `statsmodels`),\n",
        "* communicate to others what you did.\n",
        "\n",
        "These choices are commonly made because they make the math cleaner, as you will see. "
      ]
    },
    {
      "cell_type": "markdown",
      "metadata": {},
      "source": [
        "----\n",
        "📝 **Answer:**\n",
        "\n",
        "Using minimization conditions to solve for slope and intercept\n",
        "\n",
        "Derivation with respect to slope m gives $$\\frac{\\partial {\\cal L}}{\\partial m}\\left(\\frac{1}{2}\\sum_d \\left(y_d - mx_d - b \\right)^2 \\right) = 0$$\n",
        "\n",
        "By applying power rule and chain rule we get $$-2 \\sum \\left(y_d - mx_d - b \\right) = 0$$\n",
        "\n",
        "Derivation with respect to intercept b $$\\frac{\\partial {\\cal L}}{\\partial b}\\left(\\frac{1}{2}\\sum_d \\left(y_d - mx_d - b \\right)^2 \\right) = 0$$\n",
        "\n",
        "By applying derivative rules we get simplified value as $$-2 \\sum x_d\\left(y_d - mx_d - b \\right) = 0$$\n",
        "\n",
        "Using the above two equation to calculate the unknowns\n",
        "\n",
        "Solving for d $$\\sum_d y_d - \\sum_d mx_d - \\sum_d b  = 0$$\n",
        "\n",
        "$$ b = \\frac{\\sum y_d}{d} - \\frac{m\\sum x_d}{d}$$\n",
        "\n",
        "$$ b = \\mathrm{E}[Y] - m\\mathrm{E}[X]$$\n",
        "\n",
        "Solving for slope m by substituting the value of the intercept in the equation, we get $$ \\sum x_d\\left(y_d - \\mathrm{E}[Y] -m\\left(x_d - \\mathrm{E}[X]\\right)\\right) = 0 $$\n",
        "\n",
        "$$ m  = \\frac{\\sum x_d\\left(y_d - \\mathrm{E}[Y]\\right)}{\\sum x_d\\left(x_d - \\mathrm{E}[X]\\right)}$$\n",
        "\n",
        "The above equation can also be written as \n",
        "$$ m = \\frac{\\mathrm{E}[X,Y] - \\mathrm{E}[X]\\mathrm{E}[Y]}{\\mathrm{E}[X,X] - \\mathrm{E}[X^2]} = \\frac{\\mathrm{Cov}[X,Y]}{\\mathrm{Cov}[X,X]}$$\n"
      ]
    },
    {
      "cell_type": "markdown",
      "metadata": {
        "id": "CPlVWaJOy1R3"
      },
      "source": [
        "____\n",
        "![cc](https://lh5.googleusercontent.com/7ZbEpmcYpEgMj9Qujn0r3_q7M7Oce5uBvTUpYO3p06mQ7L7arqNRZPYQ9Drjx7uMIcj8Nqyk40k7Y4eTXfQ_vmo97LQjFTM0zIaOrKuUUkYpqE5ks5MDxC4Zfelou2kkvnVuky-J)\n",
        "____\n",
        "## Problem #2 (5pts)\n",
        "\n",
        "Watch this video:\n",
        "\n",
        "\n"
      ]
    },
    {
      "cell_type": "code",
      "execution_count": null,
      "metadata": {
        "colab": {
          "base_uri": "https://localhost:8080/",
          "height": 337
        },
        "id": "NjzKhuI7grlS",
        "outputId": "45261bf5-bacb-4419-cea8-1e0811a8d3e6"
      },
      "outputs": [
        {
          "data": {
            "text/html": [
              "<iframe width=\"560\" height=\"315\" src=\"https://www.youtube.com/embed/qtaqvPAeEJY\" title=\"YouTube video player\" frameborder=\"0\" allow=\"accelerometer; autoplay; clipboard-write; encrypted-media; gyroscope; picture-in-picture\" allowfullscreen></iframe>"
            ],
            "text/plain": [
              "<IPython.core.display.HTML object>"
            ]
          },
          "execution_count": 3,
          "metadata": {},
          "output_type": "execute_result"
        }
      ],
      "source": [
        "from IPython.display import HTML\n",
        "HTML('<iframe width=\"560\" height=\"315\" src=\"https://www.youtube.com/embed/qtaqvPAeEJY\" title=\"YouTube video player\" frameborder=\"0\" allow=\"accelerometer; autoplay; clipboard-write; encrypted-media; gyroscope; picture-in-picture\" allowfullscreen></iframe>')"
      ]
    },
    {
      "cell_type": "markdown",
      "metadata": {
        "id": "IyIXATkgqmfX"
      },
      "source": [
        "In a markdown cell describe covariance and correlation, explain the difference and why we need two related quantities. That is, what does correlation do for us that covariance does not? "
      ]
    },
    {
      "cell_type": "markdown",
      "metadata": {},
      "source": [
        "----\n",
        "\n",
        "📝 **Answer:**\n",
        "\n",
        "The term covariance and correlation both describes the degree to which two random variables deviate from their expected value. However, through covariance we determine the relation between two variable using their mean, while correlation defines the depth of that relationship. \n",
        "* The value of covariance can lie between negative infinity to positive infinity while value of correlation lies between -1 to 1\n",
        "* Any change in scale affects the value of covariance, but correlation remains unaffected. This results in difficulty in determining relationship using covariance\n",
        "* Covariance has units which can be found by multiplying the units of the given variables, while correlation is dimensionless\n",
        "\n",
        "Through covariance one can determine if their is any relation between two variables and if so then is it positive or negative. But to quantify how strongly these variables are related to eachother we calculate correlation values."
      ]
    },
    {
      "cell_type": "markdown",
      "metadata": {
        "id": "l-bB5hA8Qeud"
      },
      "source": [
        "____\n",
        "![Tufte](https://thedoublethink.com/wp-content/uploads/2016/09/lie_factor_example1_image.jpg)\n",
        "____\n",
        "## Problem #3 (5pts)\n",
        "\n",
        "In a markdown cell, describe three of Tufte's rules of good visualization. "
      ]
    },
    {
      "cell_type": "markdown",
      "metadata": {},
      "source": [
        "-----\n",
        "📝 **Answer:**\n",
        "\n",
        "The three Tufte's rule are:\n",
        "* Make your plots honest - The representation of data should have graphical integrity and scales labels and other information on the graph should not mislead the viewer\n",
        "* Remove ink that adds no value - The plot should be designed in a way where all the extra ink on the graph should be removed that makes the chart more easy to read. For example grid lines, excessive binning etc.\n",
        "* Don't use gimmicks that make your chart difficult to understand - Creating difficult visualization plots involving 3D figures or other non standard characterstics makes it difficult for viewers to understand and interpret insights from the graph. "
      ]
    },
    {
      "cell_type": "markdown",
      "metadata": {
        "id": "9eWYv9EHh0Ee"
      },
      "source": [
        "____\n",
        "![sl](https://blog.streamlit.io/content/images/size/w600/2022/04/Live-Data-Science-Dashboard-GIF.gif)\n",
        "____\n",
        "## Problem #4 (30pts)\n",
        "\n",
        "You should be in good shape with your project! You have two more weeks to complete it: it is due before class Wed after our fall break (which only impacts Monday for us). You should have:\n",
        "* picked a dataset, \n",
        "* you know what is interesting about it,\n",
        "* you developed a story/narrative of the dataset,\n",
        "* you are now an expert on excellent visualization, \n",
        "* you know how to build a simple streamlit web app,\n",
        "* and you have mostly put all of these together. \n",
        "\n",
        "The final step is deploying the web app, which you will do this week. Previously, you watched some videos on how to do this, so you should be mostly ready. For this HW you could deploy your actual project -- _if you have it done!_ -- but more likely you will deploy a smaller, practice version of it.\n",
        "\n",
        "Just a reminder of the steps:\n",
        "* you need a practice `.py` file using `streamlit`,\n",
        "* you need to create three additional files:\n",
        "  1. `requirements.txt`\n",
        "  2. `Procfile`\n",
        "  3. `setup.sh`\n",
        "\n",
        "I followed [this video](https://www.youtube.com/watch?v=nJHrSvYxzjE) and was able to [make this](https://cmse830-test.herokuapp.com/). If you have any problems, post your questions in Slack. \n",
        "\n",
        "When you are done, paste the link here so that Vicente can test it. \n",
        "\n",
        "For the midterm project, you will do three things:\n",
        "* give a $\\sim 10$ presentation during class (on the Wed and Fri after fall break),\n",
        "* turn in your code to D2L,\n",
        "* provide the link to the operational web app. \n",
        "\n",
        "We will collect the links so that you can all see what the other students have done, and we will share them with other faculty. (If there is a reason your link cannot be shared, please let me know.) \n",
        "\n",
        "\n",
        "\n",
        "\n"
      ]
    },
    {
      "cell_type": "markdown",
      "metadata": {},
      "source": [
        "----\n",
        "\n",
        "📝 Please click [here](https://shrouded-hollows-96126.herokuapp.com/) to land on to my heroku application.\n",
        "\n",
        "----"
      ]
    }
  ],
  "metadata": {
    "colab": {
      "collapsed_sections": [
        "LHPjoRNQySfy",
        "l-bB5hA8Qeud"
      ],
      "provenance": []
    },
    "kernelspec": {
      "display_name": "Python 3.10.7 64-bit",
      "language": "python",
      "name": "python3"
    },
    "language_info": {
      "name": "python",
      "version": "3.10.7"
    },
    "vscode": {
      "interpreter": {
        "hash": "bcb63d2e3d3ff8e4a12a5de5542e8a8fd3011a00aec1a355033d42d47bd9744f"
      }
    }
  },
  "nbformat": 4,
  "nbformat_minor": 0
}
